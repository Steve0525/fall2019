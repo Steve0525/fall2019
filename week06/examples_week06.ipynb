{
 "cells": [
  {
   "cell_type": "code",
   "execution_count": 1,
   "metadata": {},
   "outputs": [],
   "source": [
    "import bqplot.market_map\n",
    "import bqplot\n",
    "import numpy as np\n",
    "import pandas as pd"
   ]
  },
  {
   "cell_type": "code",
   "execution_count": 15,
   "metadata": {},
   "outputs": [],
   "source": [
    "df = pd.read_csv(\"../data/building_inventory.csv\",\n",
    "            na_values = {'Year Acquired': 0, 'Year Constructed': 0, 'Square Footage': 0}\n",
    ")"
   ]
  },
  {
   "cell_type": "code",
   "execution_count": 69,
   "metadata": {},
   "outputs": [],
   "source": [
    "import ipywidgets"
   ]
  },
  {
   "cell_type": "code",
   "execution_count": 90,
   "metadata": {},
   "outputs": [
    {
     "data": {
      "application/vnd.jupyter.widget-view+json": {
       "model_id": "56919f1f97254e148251b1d69b98e408",
       "version_major": 2,
       "version_minor": 0
      },
      "text/plain": [
       "VBox(children=(MarketMap(axes=[ColorAxis(label='Total Building Count', scale=ColorScale(scheme='Blues'))], col…"
      ]
     },
     "metadata": {},
     "output_type": "display_data"
    }
   ],
   "source": [
    "building_gb = df.groupby(\"Congressional Full Name\").agg(\n",
    "    {'Square Footage': ['count', 'sum']}\n",
    ")['Square Footage']\n",
    "\n",
    "color_scale = bqplot.ColorScale(scheme = \"Blues\")\n",
    "color_axis = bqplot.ColorAxis(scale = color_scale, label = \"Total Building Count\")\n",
    "\n",
    "my_map = bqplot.market_map.MarketMap(\n",
    "    names = building_gb.index.values,\n",
    "    ref_data = building_gb,\n",
    "    color = building_gb['sum'],\n",
    "    tooltip_fields = ['sum', 'count'],\n",
    "    tooltip_format = ['.1f', '.1f'],\n",
    "    scales = {'color': color_scale},\n",
    "    axes = [color_axis]\n",
    ")\n",
    "\n",
    "year_acquisition = df.groupby(\"Year Acquired\").sum()[\"Square Footage\"]\n",
    "\n",
    "x_sc = bqplot.LinearScale()\n",
    "y_sc = bqplot.LogScale()\n",
    "x_ax = bqplot.Axis(scale = x_sc)\n",
    "y_ax = bqplot.Axis(scale = y_sc, orientation = 'vertical')\n",
    "\n",
    "base_line = np.add.accumulate(year_acquisition.values)\n",
    "\n",
    "acquired_footage = bqplot.Lines(x = year_acquisition.index.values,\n",
    "                                y = base_line,\n",
    "                                scales = {'x': x_sc, 'y': y_sc}\n",
    ")\n",
    "\n",
    "def update_footage(event):\n",
    "    new_selection = event['new']\n",
    "    if len(new_selection) == 0:\n",
    "        new_df = df\n",
    "    else:\n",
    "        new_df = df[df['Congressional Full Name'].isin(new_selection)]\n",
    "    new_ac = new_df.groupby(\"Year Acquired\").sum()[\"Square Footage\"]\n",
    "    acquired_footage.x = new_ac.index.values\n",
    "    acquired_footage.y = np.add.accumulate(new_ac.values)\n",
    "\n",
    "my_map.observe(update_footage, ['selected'])\n",
    "\n",
    "fig = bqplot.Figure(marks = [acquired_footage], axes = [x_ax, y_ax])\n",
    "\n",
    "display(ipywidgets.VBox([my_map, fig]))"
   ]
  },
  {
   "cell_type": "code",
   "execution_count": 98,
   "metadata": {},
   "outputs": [
    {
     "data": {
      "application/vnd.jupyter.widget-view+json": {
       "model_id": "b26309e81dc646baa115f0c14b23149a",
       "version_major": 2,
       "version_minor": 0
      },
      "text/plain": [
       "VBox(children=(MarketMap(axes=[ColorAxis(label='Total Building Count', scale=ColorScale(scheme='Blues'))], col…"
      ]
     },
     "metadata": {},
     "output_type": "display_data"
    }
   ],
   "source": [
    "building_gb = df.groupby(\"Congressional Full Name\").agg(\n",
    "    {'Square Footage': ['count', 'sum']}\n",
    ")['Square Footage']\n",
    "\n",
    "color_scale = bqplot.ColorScale(scheme = \"Blues\")\n",
    "color_axis = bqplot.ColorAxis(scale = color_scale, label = \"Total Building Count\")\n",
    "\n",
    "my_map = bqplot.market_map.MarketMap(\n",
    "    names = building_gb.index.values,\n",
    "    ref_data = building_gb,\n",
    "    color = building_gb['sum'],\n",
    "    tooltip_fields = ['sum', 'count'],\n",
    "    tooltip_format = ['.1f', '.1f'],\n",
    "    scales = {'color': color_scale},\n",
    "    axes = [color_axis]\n",
    ")\n",
    "\n",
    "year_acquisition = df.groupby(\"Year Acquired\").sum()[\"Square Footage\"]\n",
    "\n",
    "x_sc = bqplot.LinearScale()\n",
    "y_sc = bqplot.LogScale()\n",
    "x_ax = bqplot.Axis(scale = x_sc)\n",
    "y_ax = bqplot.Axis(scale = y_sc, orientation = 'vertical')\n",
    "\n",
    "base_line = np.add.accumulate(year_acquisition.values)\n",
    "\n",
    "acquired_footage = bqplot.Lines(x = year_acquisition.index.values,\n",
    "                                y = base_line,\n",
    "                                scales = {'x': x_sc, 'y': y_sc}\n",
    ")\n",
    "\n",
    "fast_int_sel = bqplot.interacts.FastIntervalSelector(scale = x_sc)\n",
    "fig = bqplot.Figure(marks = [acquired_footage], axes = [x_ax, y_ax],\n",
    "                    interaction = fast_int_sel)\n",
    "mi, ma = building_gb['sum'].min(), building_gb['sum'].max()\n",
    "def update_colors(event):\n",
    "    if len(event['new']) == 0:\n",
    "        range_df = df\n",
    "    else:\n",
    "        range_df = df[(df['Year Acquired'] < event['new'][1])\n",
    "                     &(df['Year Acquired'] > event['new'][0])]\n",
    "    range_gb = range_df.groupby(\"Congressional Full Name\").agg(\n",
    "                        {'Square Footage': ['count', 'sum']}\n",
    "                    )['Square Footage']\n",
    "    my_map.color = range_gb['sum']\n",
    "    color_scale.min = mi\n",
    "    color_scale.max = ma\n",
    "fast_int_sel.observe(update_colors, ['selected'])\n",
    "    \n",
    "display(ipywidgets.VBox([my_map, fig]))"
   ]
  },
  {
   "cell_type": "code",
   "execution_count": null,
   "metadata": {},
   "outputs": [],
   "source": []
  }
 ],
 "metadata": {
  "kernelspec": {
   "display_name": "Python 3",
   "language": "python",
   "name": "python3"
  },
  "language_info": {
   "codemirror_mode": {
    "name": "ipython",
    "version": 3
   },
   "file_extension": ".py",
   "mimetype": "text/x-python",
   "name": "python",
   "nbconvert_exporter": "python",
   "pygments_lexer": "ipython3",
   "version": "3.7.3"
  }
 },
 "nbformat": 4,
 "nbformat_minor": 2
}
